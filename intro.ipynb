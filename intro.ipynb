{
 "cells": [
  {
   "cell_type": "markdown",
   "metadata": {},
   "source": [
    "The topics that will be covered in this lecture\n",
    "\n",
    "1. Basic Introduction\n",
    "    a. 2 tier, 3 tier (3 level of abstraction), data independence, data models (network, heirirchal, ER, Relational, Object Oriented), \n",
    "2. ER Model (Entity Relational Model)\n",
    "    a. different types of attributes, different types of relationships (one to one, one to many, many to many)\n",
    "3. Basics of Keys\n",
    "4. Normalisation\n",
    "5. Transaction control and concurrency management\n",
    "6. SQL and Relational Algebra\n",
    "7. Indexing"
   ]
  }
 ],
 "metadata": {
  "language_info": {
   "name": "python"
  }
 },
 "nbformat": 4,
 "nbformat_minor": 2
}
