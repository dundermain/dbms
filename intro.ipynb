{
 "cells": [
  {
   "cell_type": "markdown",
   "metadata": {},
   "source": [
    "The topics that will be covered in this lecture\n",
    "\n",
    "1. Basic Introduction\n",
    "    a. 2 tier, 3 tier (3 level of abstraction), data independence, data models (network, heirirchal, ER, Relational, Object Oriented), \n",
    "\n",
    "2. ER Model (Entity Relational Model)\n",
    "    a. different types of attributes, different types of relationships (one to one, one to many, many to many)\n",
    "\n",
    "3. Basics of Keys\n",
    "    a. what are Primary key, Candidiate key, foreign key, super key and their characteristics\n",
    "\n",
    "4. Normalisation\n",
    "    a. Closure method, functional dependencies, 1st to 3rd Normal form. BCNF (Boyce Codd Normal Form)\n",
    "\n",
    "5. Transaction control and concurrency management\n",
    "    a. ACID Properties, RW,RR,WR Problems (Read Write), Conflict Serializability, Recoverability, 2 Phase Locking protocol and time stamp ordering protocol\n",
    "\n",
    "6. SQL and Relational Algebra\n",
    "    a. DDL, DQL, DML, DCL and TCL Commands (https://www.geeksforgeeks.org/sql-ddl-dql-dml-dcl-tcl-commands/), JOIN commands, Nested Query Operations, Aggregate Operations\n",
    "    \n",
    "7. Indexing\n",
    "    a. Primary, cluster and secondary indexes, B Tree and B+ Tree Operations\n",
    "\n"
   ]
  }
 ],
 "metadata": {
  "language_info": {
   "name": "python"
  }
 },
 "nbformat": 4,
 "nbformat_minor": 2
}
